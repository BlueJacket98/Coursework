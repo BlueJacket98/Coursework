{
 "cells": [
  {
   "cell_type": "code",
   "execution_count": 1,
   "metadata": {},
   "outputs": [],
   "source": [
    "class SingleNode():\n",
    "    def __init__(self, elem):\n",
    "        self.elem = elem\n",
    "        self.next = None\n",
    "        self.count = 1\n",
    "        \n",
    "class SingleLinkedList():\n",
    "    def __init__(self):\n",
    "        self.head = None\n",
    "        \n",
    "    def is_empty(self):\n",
    "        \"\"\"判断链表是否为空\"\"\"\n",
    "        return self.head == None\n",
    "\n",
    "    def append(self, elem):\n",
    "        \"\"\"尾部添加元素\"\"\"\n",
    "        node = SingleNode(elem)\n",
    "        # 先判断链表是否为空，若是空链表，则将_head指向新节点\n",
    "        if self.is_empty():\n",
    "            self.head = node\n",
    "        # 若不为空，则找到尾部，将尾节点的next指向新节点\n",
    "        else:\n",
    "            cur = self.head\n",
    "            while cur.next != None:\n",
    "                cur = cur.next\n",
    "            cur.next = node\n",
    "            \n",
    "    def travel(self):\n",
    "        \"\"\"遍历链表\"\"\"\n",
    "        cur = self.head\n",
    "        while cur != None:\n",
    "            print('Elem: ', cur.elem, '\\t Count: ', cur.count)\n",
    "            cur = cur.next\n",
    "        \n",
    "    def search(self, elem):\n",
    "        \"\"\"链表查找节点是否存在，并返回True或者False\"\"\"\n",
    "        cur = self.head\n",
    "        while cur != None:\n",
    "            if cur.elem == elem:\n",
    "                return True\n",
    "            cur = cur.next\n",
    "        return False\n",
    "        \n",
    "    def remove_count(self):\n",
    "        s = SingleLinkedList()\n",
    "        cur = self.head\n",
    "        while cur != None:\n",
    "            if s.search(cur.elem):\n",
    "                p = s.head\n",
    "                while p != None:\n",
    "                    if p.elem == cur.elem:\n",
    "                        p.count += 1\n",
    "                    p = p.next\n",
    "                cur = cur.next\n",
    "            else:\n",
    "                s.append(cur.elem)\n",
    "                cur = cur.next\n",
    "        return s\n",
    "    \n",
    "    def show_count(self, num):\n",
    "        cur = self.head\n",
    "        cnt = []\n",
    "        while cur != None:\n",
    "            cnt.append(cur.count)\n",
    "            cur = cur.next\n",
    "        cnt.sort(reverse=True)\n",
    "        selected = cnt[:num-1]\n",
    "        cur = self.head\n",
    "        while cur != None:\n",
    "            if cur.count in selected:\n",
    "                print('Elem: ', cur.elem, '\\t Count: ', cur.count)\n",
    "            cur = cur.next"
   ]
  },
  {
   "cell_type": "code",
   "execution_count": 2,
   "metadata": {},
   "outputs": [
    {
     "name": "stdout",
     "output_type": "stream",
     "text": [
      "Elem:  cat \t Count:  1\n",
      "Elem:  dog \t Count:  1\n",
      "Elem:  cat \t Count:  1\n",
      "Elem:  tiger \t Count:  1\n",
      "Elem:  bird \t Count:  1\n",
      "Elem:  dog \t Count:  1\n",
      "Elem:  dog \t Count:  1\n",
      "Elem:  tiger \t Count:  1\n",
      "Elem:  fish \t Count:  1\n"
     ]
    }
   ],
   "source": [
    "l = SingleLinkedList()\n",
    "l.append('cat')\n",
    "l.append('dog')\n",
    "l.append('cat')\n",
    "l.append('tiger')\n",
    "l.append('bird')\n",
    "l.append('dog')\n",
    "l.append('dog')\n",
    "l.append('tiger')\n",
    "l.append('fish')\n",
    "l.travel()"
   ]
  },
  {
   "cell_type": "code",
   "execution_count": 3,
   "metadata": {},
   "outputs": [
    {
     "name": "stdout",
     "output_type": "stream",
     "text": [
      "Elem:  cat \t Count:  2\n",
      "Elem:  dog \t Count:  3\n",
      "Elem:  tiger \t Count:  2\n",
      "Elem:  bird \t Count:  1\n",
      "Elem:  fish \t Count:  1\n"
     ]
    }
   ],
   "source": [
    "s = l.remove_count()\n",
    "s.travel()"
   ]
  },
  {
   "cell_type": "code",
   "execution_count": 4,
   "metadata": {},
   "outputs": [
    {
     "name": "stdout",
     "output_type": "stream",
     "text": [
      "Elem:  cat \t Count:  2\n",
      "Elem:  dog \t Count:  3\n",
      "Elem:  tiger \t Count:  2\n"
     ]
    }
   ],
   "source": [
    "s.show_count(3)"
   ]
  }
 ],
 "metadata": {
  "kernelspec": {
   "display_name": "Python 3",
   "language": "python",
   "name": "python3"
  },
  "language_info": {
   "codemirror_mode": {
    "name": "ipython",
    "version": 3
   },
   "file_extension": ".py",
   "mimetype": "text/x-python",
   "name": "python",
   "nbconvert_exporter": "python",
   "pygments_lexer": "ipython3",
   "version": "3.7.4"
  }
 },
 "nbformat": 4,
 "nbformat_minor": 2
}
